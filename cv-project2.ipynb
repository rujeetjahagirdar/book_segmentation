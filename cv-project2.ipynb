{
 "cells": [
  {
   "cell_type": "code",
   "execution_count": null,
   "metadata": {
    "_cell_guid": "6196205d-5df4-4c9d-85b3-7c0e22eece38",
    "_uuid": "4e1b761a-74ab-4a12-ae35-78897473005e",
    "execution": {
     "iopub.execute_input": "2023-05-08T02:25:56.866480Z",
     "iopub.status.busy": "2023-05-08T02:25:56.866094Z"
    },
    "jupyter": {
     "outputs_hidden": false
    }
   },
   "outputs": [
    {
     "name": "stdout",
     "output_type": "stream",
     "text": [
      "Collecting git+https://github.com/facebookresearch/segment-anything.git\n",
      "  Cloning https://github.com/facebookresearch/segment-anything.git to /tmp/pip-req-build-6nkfowrk\n",
      "  Running command git clone --filter=blob:none --quiet https://github.com/facebookresearch/segment-anything.git /tmp/pip-req-build-6nkfowrk\n",
      "  Resolved https://github.com/facebookresearch/segment-anything.git to commit 6fdee8f2727f4506cfbbe553e23b895e27956588\n",
      "  Preparing metadata (setup.py) ... \u001b[?25ldone\n",
      "\u001b[?25hBuilding wheels for collected packages: segment-anything\n",
      "  Building wheel for segment-anything (setup.py) ... \u001b[?25ldone\n",
      "\u001b[?25h  Created wheel for segment-anything: filename=segment_anything-1.0-py3-none-any.whl size=36621 sha256=9470b9dee19ce6a65baa392c1a1f25a9739ef6042a32485cfed49354eaa71d89\n",
      "  Stored in directory: /tmp/pip-ephem-wheel-cache-p774b14r/wheels/6e/b2/38/082465c177a067501384fd15cb18be1128372ef60f27a1c426\n",
      "Successfully built segment-anything\n",
      "Installing collected packages: segment-anything\n",
      "Successfully installed segment-anything-1.0\n",
      "\u001b[33mWARNING: Running pip as the 'root' user can result in broken permissions and conflicting behaviour with the system package manager. It is recommended to use a virtual environment instead: https://pip.pypa.io/warnings/venv\u001b[0m\u001b[33m\n",
      "\u001b[0m"
     ]
    },
    {
     "data": {
      "application/vnd.jupyter.widget-view+json": {
       "model_id": "bd90952b989544e697607cba41fd0d82",
       "version_major": 2,
       "version_minor": 0
      },
      "text/plain": [
       "Downloading (…)rocessor_config.json:   0%|          | 0.00/228 [00:00<?, ?B/s]"
      ]
     },
     "metadata": {},
     "output_type": "display_data"
    },
    {
     "name": "stderr",
     "output_type": "stream",
     "text": [
      "Could not find image processor class in the image processor config or the model config. Loading based on pattern matching with the model's feature extractor configuration.\n"
     ]
    },
    {
     "data": {
      "application/vnd.jupyter.widget-view+json": {
       "model_id": "7c183a2711414309b91a107083e437df",
       "version_major": 2,
       "version_minor": 0
      },
      "text/plain": [
       "Downloading (…)okenizer_config.json:   0%|          | 0.00/1.12k [00:00<?, ?B/s]"
      ]
     },
     "metadata": {},
     "output_type": "display_data"
    },
    {
     "data": {
      "application/vnd.jupyter.widget-view+json": {
       "model_id": "7a70e9d68a0e44a5a8b401b27311e26f",
       "version_major": 2,
       "version_minor": 0
      },
      "text/plain": [
       "Downloading (…)olve/main/vocab.json:   0%|          | 0.00/899k [00:00<?, ?B/s]"
      ]
     },
     "metadata": {},
     "output_type": "display_data"
    },
    {
     "data": {
      "application/vnd.jupyter.widget-view+json": {
       "model_id": "0c93ad64c93e47aabe4cb806d805ddf2",
       "version_major": 2,
       "version_minor": 0
      },
      "text/plain": [
       "Downloading (…)olve/main/merges.txt:   0%|          | 0.00/456k [00:00<?, ?B/s]"
      ]
     },
     "metadata": {},
     "output_type": "display_data"
    },
    {
     "data": {
      "application/vnd.jupyter.widget-view+json": {
       "model_id": "616ab3dce0134a17bc860711212508c1",
       "version_major": 2,
       "version_minor": 0
      },
      "text/plain": [
       "Downloading (…)cial_tokens_map.json:   0%|          | 0.00/772 [00:00<?, ?B/s]"
      ]
     },
     "metadata": {},
     "output_type": "display_data"
    },
    {
     "data": {
      "application/vnd.jupyter.widget-view+json": {
       "model_id": "528f1916a6f347fa95a484dda9e1f271",
       "version_major": 2,
       "version_minor": 0
      },
      "text/plain": [
       "Downloading (…)lve/main/config.json:   0%|          | 0.00/4.21k [00:00<?, ?B/s]"
      ]
     },
     "metadata": {},
     "output_type": "display_data"
    },
    {
     "data": {
      "application/vnd.jupyter.widget-view+json": {
       "model_id": "3736ca74c9554ceba0c5fa51f2649433",
       "version_major": 2,
       "version_minor": 0
      },
      "text/plain": [
       "Downloading pytorch_model.bin:   0%|          | 0.00/2.43G [00:00<?, ?B/s]"
      ]
     },
     "metadata": {},
     "output_type": "display_data"
    }
   ],
   "source": [
    "import numpy as np\n",
    "import tensorflow as tf\n",
    "from tensorflow import keras\n",
    "import matplotlib.pyplot as plt\n",
    "import cv2\n",
    "import glob\n",
    "import os\n",
    "!pip install git+https://github.com/facebookresearch/segment-anything.git\n",
    "    \n",
    "import torch\n",
    "torch.cuda.empty_cache()\n",
    "from segment_anything import SamAutomaticMaskGenerator, sam_model_registry\n",
    "sam = sam_model_registry[\"vit_b\"](checkpoint=\"/kaggle/input/cv-project/sam_vit_b_01ec64.pth\")\n",
    "sam.to('cuda')\n",
    "mask_generator = SamAutomaticMaskGenerator(\n",
    "    model=sam,\n",
    "    points_per_side=32,\n",
    "    pred_iou_thresh=0.86,\n",
    "    stability_score_thresh=0.92,\n",
    "    crop_n_layers=1,\n",
    "    crop_n_points_downscale_factor=2,\n",
    "    min_mask_region_area=100,  # Requires open-cv to run post-processing\n",
    ")\n",
    "\n",
    "import math\n",
    "\n",
    "from transformers import TrOCRProcessor, VisionEncoderDecoderModel\n",
    "processor = TrOCRProcessor.from_pretrained('microsoft/trocr-large-printed')\n",
    "model = VisionEncoderDecoderModel.from_pretrained('microsoft/trocr-large-printed')"
   ]
  },
  {
   "cell_type": "code",
   "execution_count": null,
   "metadata": {
    "_cell_guid": "0adfef60-25a3-407b-8de3-6cb2d8947996",
    "_uuid": "fbf79e25-8d00-452a-9feb-152721d7a401",
    "execution": {
     "iopub.execute_input": "2023-05-07T15:39:16.218552Z",
     "iopub.status.busy": "2023-05-07T15:39:16.217872Z",
     "iopub.status.idle": "2023-05-07T15:39:16.232053Z",
     "shell.execute_reply": "2023-05-07T15:39:16.230758Z",
     "shell.execute_reply.started": "2023-05-07T15:39:16.218494Z"
    },
    "jupyter": {
     "outputs_hidden": false
    }
   },
   "outputs": [],
   "source": [
    "def rotate_by_angle(img):\n",
    "    print(\"Inside rotate_by_angle...\\n\")\n",
    "    points = []\n",
    "    #cropped_img2_2 = img.copy()\n",
    "    rotated_output = img.copy()\n",
    "    dst = cv2.Canny(img, 1000, 200, None, 3)\n",
    "    lines = cv2.HoughLines(dst, 1, np.pi / 180, 150, None, 0, 0)\n",
    "    # lines = cv2.HoughLinesP(dst, 1, np.pi / 180, 100, minLineLength=100, maxLineGap=10)\n",
    "    if lines is not None:\n",
    "        for i in range(0, len(lines)):\n",
    "            rho = lines[i][0][0]\n",
    "            theta = lines[i][0][1]\n",
    "            a = math.cos(theta)\n",
    "            b = math.sin(theta)\n",
    "            x0 = a * rho\n",
    "            y0 = b * rho\n",
    "            pt1 = (int(x0 + 1000*(-b)), int(y0 + 1000*(a)))\n",
    "            pt2 = (int(x0 - 1000*(-b)), int(y0 - 1000*(a)))\n",
    "            points.append((pt1,pt2))\n",
    "            cv2.line(rotated_output, pt1, pt2, (0,0,255), 3, cv2.LINE_AA)\n",
    "        if ((pt2[0]-pt1[0])==0):\n",
    "            angle = 90\n",
    "        else:\n",
    "            slope = abs((pt2[1]-pt1[1])/(pt2[0]-pt1[0]))\n",
    "            #slope = (img.shape[0] - 1 - pt2[1] - img.shape[0] - 1 - pt1[1]) / (pt2[0]-pt1[0]) \n",
    "            angle = np.rad2deg(np.arctan(slope))\n",
    "            print('Slope= ',slope)\n",
    "            print('angle= ',angle)\n",
    "#         print(angle)\n",
    "        rotate_matrix = cv2.getRotationMatrix2D(center=(img.shape[0]/2,img.shape[1]/2), angle=angle, scale=1)\n",
    "        rotated_image = cv2.warpAffine(src=img, M=rotate_matrix, dsize=(img.shape[0]*2, img.shape[0]*2),flags=cv2.INTER_LINEAR, borderMode=cv2.BORDER_CONSTANT)\n",
    "        contours, hierarchy = cv2.findContours(cv2.cvtColor(rotated_image, cv2.COLOR_RGB2GRAY), cv2.RETR_EXTERNAL, cv2.CHAIN_APPROX_SIMPLE)\n",
    "\n",
    "        # get the largest contour\n",
    "        largest_contour = max(contours, key=cv2.contourArea)\n",
    "\n",
    "        # get the bounding rectangle of the contour\n",
    "        x, y, w, h = cv2.boundingRect(largest_contour)\n",
    "\n",
    "        # crop the image to the bounding rectangle\n",
    "        crop_img = rotated_image[y:y+h, x:x+w]\n",
    "#         plt.imshow(angle_line_img)\n",
    "#         plt.show()\n",
    "        return (crop_img, rotated_output, np.round(angle,3))\n",
    "#     return np.zeros(shape=(cropped_img2_2.shape[0]*2,cropped_img2_2.shape[0]*2))\n",
    "    else:\n",
    "        print(\"No lines detecetd\")\n",
    "        return None, None, None"
   ]
  },
  {
   "cell_type": "code",
   "execution_count": null,
   "metadata": {
    "_cell_guid": "e511f7b2-720a-4733-bb95-1ecc143f53bf",
    "_uuid": "6062a2ce-a676-4657-bf83-6a336c965920",
    "execution": {
     "iopub.execute_input": "2023-05-07T14:34:17.215373Z",
     "iopub.status.busy": "2023-05-07T14:34:17.214224Z",
     "iopub.status.idle": "2023-05-07T14:34:17.221680Z",
     "shell.execute_reply": "2023-05-07T14:34:17.220533Z",
     "shell.execute_reply.started": "2023-05-07T14:34:17.215321Z"
    },
    "jupyter": {
     "outputs_hidden": false
    }
   },
   "outputs": [],
   "source": [
    "def get_ocr(img):\n",
    "    print(\"Inside get_ocr...\\n\")\n",
    "    if img is None:\n",
    "        return 'None'\n",
    "    image = img\n",
    "    pixel_values = processor(images=image, return_tensors=\"pt\").pixel_values\n",
    "    generated_ids = model.generate(pixel_values)\n",
    "    generated_text = processor.batch_decode(generated_ids, skip_special_tokens=True)[0]\n",
    "    return(generated_text)"
   ]
  },
  {
   "cell_type": "code",
   "execution_count": null,
   "metadata": {
    "_cell_guid": "a10550de-7c0b-4d3c-9365-ed63adbf58b2",
    "_uuid": "050d89ab-0638-49a3-8b3a-996f47bd28d8",
    "execution": {
     "iopub.execute_input": "2023-05-07T14:34:17.775322Z",
     "iopub.status.busy": "2023-05-07T14:34:17.774595Z",
     "iopub.status.idle": "2023-05-07T14:34:17.783730Z",
     "shell.execute_reply": "2023-05-07T14:34:17.782493Z",
     "shell.execute_reply.started": "2023-05-07T14:34:17.775285Z"
    },
    "jupyter": {
     "outputs_hidden": false
    }
   },
   "outputs": [],
   "source": [
    "def segment_books(img, img_path):\n",
    "    print(\"Inside segment_books...\\n\")\n",
    "    masks = mask_generator.generate(img)\n",
    "    books_bboxes = []\n",
    "    boxes_img = img.copy()\n",
    "    segmentation_output = np.zeros(shape=(img.shape[0],img.shape[1]))\n",
    "    for i in masks:\n",
    "        if(i['area']>100000):\n",
    "            book = {'bbox':None, 'segment':None}\n",
    "            book['bbox'] = i['bbox']\n",
    "            book['segment'] = i['segmentation']\n",
    "            segmentation_output = segmentation_output + i['segmentation']*np.random.randint(10,200)\n",
    "            books_bboxes.append(book)\n",
    "            x,y,w,h = i['bbox']\n",
    "            cv2.rectangle(boxes_img,(int(x),int(y)),((int(x)+int(w)),(int(y)+int(h))),(255,0,0),5)\n",
    "#     plt.imshow(segmentation_output)\n",
    "#     plt.imsave('segmentation_output.jpg',segmentation_output)\n",
    "#     plt.show()\n",
    "#     plt.imshow(boxes_img)\n",
    "#     plt.show()\n",
    "    return books_bboxes, segmentation_output, boxes_img"
   ]
  },
  {
   "cell_type": "code",
   "execution_count": null,
   "metadata": {
    "_cell_guid": "28665a36-e953-49ed-bdf5-e2858f0b03ab",
    "_uuid": "571aa697-bd24-42f0-9235-1e5e6cf39190",
    "execution": {
     "iopub.execute_input": "2023-05-07T15:40:37.692777Z",
     "iopub.status.busy": "2023-05-07T15:40:37.692344Z"
    },
    "jupyter": {
     "outputs_hidden": false
    }
   },
   "outputs": [],
   "source": [
    "def main():\n",
    "    for image in glob.glob('./input/*'):\n",
    "        print(\"Processing \",image)\n",
    "        img = cv2.imread(image, cv2.COLOR_BGR2RGB)\n",
    "        img_path = image.split('/')[-1].split('.')[0]\n",
    "        books_bboxes, segment_output, bounding_box_img = segment_books(img, img_path)\n",
    "        plt.imshow(segment_output)\n",
    "        plt.show()\n",
    "        plt.imshow(bounding_box_img)\n",
    "        plt.show()\n",
    "        for i in range(len(books_bboxes)):\n",
    "            book = books_bboxes[i]\n",
    "            fig, axes = plt.subplots(1,4,figsize=(8,8))\n",
    "            x,y,w,h = book['bbox'][0], book['bbox'][1], book['bbox'][2], book['bbox'][3]\n",
    "            cropped_img = img[int(y):(int(y)+int(h)), int(x):(int(x)+int(w))]\n",
    "            cropped_mask = book['segment'][int(y):(int(y)+int(h)), int(x):(int(x)+int(w))].astype(int)\n",
    "            cropped_img2 = np.zeros_like(cropped_img)\n",
    "            for k in range(3):\n",
    "                cropped_img2[:,:,k] = np.multiply(cropped_img[:,:,k],cropped_mask)\n",
    "            rotated_cropped_img, rotation_output, agl = rotate_by_angle(cropped_img2)\n",
    "            axes[0].imshow(cropped_img2)\n",
    "            axes[1].imshow(cropped_mask)\n",
    "            ocr_text = get_ocr(rotated_cropped_img)\n",
    "            if rotated_cropped_img is None:\n",
    "                rotated_cropped_img = np.zeros(shape=(cropped_img2.shape[0]*2,cropped_img2.shape[0]*2))\n",
    "                rotation_output = np.zeros(shape=(cropped_img2.shape[0]*2,cropped_img2.shape[0]*2))\n",
    "            axes[2].imshow(rotation_output)\n",
    "            axes[3].set_title(\"Angle: {}\\n{}\".format(agl,ocr_text))\n",
    "            axes[3].imshow(rotated_cropped_img)\n",
    "            plt.show()\n",
    "            if not os.path.exists(img_path):\n",
    "                os.makedirs(img_path)\n",
    "            plt.imsave(\"./{}/{}_segmentation.jpg\".format(img_path,img_path),segment_output)\n",
    "            plt.imsave(\"./{}/{}_boundig_boxes.jpg\".format(img_path,img_path),bounding_box_img)\n",
    "            if not os.path.exists(img_path+'/outputs'):\n",
    "                os.makedirs(img_path+'/outputs')\n",
    "            fig.savefig(\"./{}/{}/{}_{}.jpg\".format(img_path, 'outputs',img_path,str(i)+'_output'))\n",
    "            print(\"./{}/{}_{}.jpg saved !!!\".format(img_path,img_path,str(i)))\n",
    "\n",
    "    print(\"Done\")\n",
    "\n",
    "\n",
    "main()\n"
   ]
  },
  {
   "cell_type": "code",
   "execution_count": null,
   "metadata": {
    "_cell_guid": "affceb32-7bad-404e-8f52-0421073c24ac",
    "_uuid": "4de32c54-f2a1-4495-9fd8-37fecea259ff",
    "execution": {
     "iopub.execute_input": "2023-05-07T16:04:57.027490Z",
     "iopub.status.busy": "2023-05-07T16:04:57.026622Z",
     "iopub.status.idle": "2023-05-07T16:04:57.320482Z",
     "shell.execute_reply": "2023-05-07T16:04:57.319500Z",
     "shell.execute_reply.started": "2023-05-07T16:04:57.027446Z"
    },
    "jupyter": {
     "outputs_hidden": false
    }
   },
   "outputs": [],
   "source": [
    "# import shutil\n",
    "# # !rm '/kaggle/working/IMG_20230318_134550.zip'\n",
    "# # !rm '/kaggle/working/IMG_20230318_134552.zip'\n",
    "# # !rm '/kaggle/working/IMG_20230409_111633.zip'\n",
    "# # !rm -r '/kaggle/working/IMG_20230318_134550'\n",
    "# # !rm -r '/kaggle/working/IMG_20230318_134552'\n",
    "# # !rm -r '/kaggle/working/IMG_20230409_111633'\n",
    "# # shutil.make_archive('IMG_20230318_134552', 'zip', '/kaggle/working/IMG_20230318_134552')\n",
    "# shutil.make_archive('IMG_20230318_134550', 'zip', '/kaggle/working/IMG_20230318_134550')\n",
    "# shutil.make_archive('IMG_20230409_111633', 'zip', '/kaggle/working/IMG_20230409_111633')"
   ]
  }
 ],
 "metadata": {
  "kernelspec": {
   "display_name": "Python 3",
   "language": "python",
   "name": "python3"
  },
  "language_info": {
   "codemirror_mode": {
    "name": "ipython",
    "version": 3
   },
   "file_extension": ".py",
   "mimetype": "text/x-python",
   "name": "python",
   "nbconvert_exporter": "python",
   "pygments_lexer": "ipython3",
   "version": "3.8.8"
  }
 },
 "nbformat": 4,
 "nbformat_minor": 4
}
